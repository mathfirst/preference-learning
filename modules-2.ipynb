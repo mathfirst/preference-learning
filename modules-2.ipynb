{
 "cells": [
  {
   "cell_type": "markdown",
   "id": "7836ddb9-75e3-4f31-9b7e-afe68b38dab6",
   "metadata": {},
   "source": [
    "# About modules - 2"
   ]
  },
  {
   "cell_type": "markdown",
   "id": "0639d555-21c2-40dc-bb01-5565a006bd54",
   "metadata": {},
   "source": [
    "## Review"
   ]
  },
  {
   "cell_type": "markdown",
   "id": "986599cf-d22b-4692-92b8-acec795eeaa7",
   "metadata": {},
   "source": [
    "## `==` is used to check if the values of two variables are equal"
   ]
  },
  {
   "cell_type": "code",
   "execution_count": 4,
   "id": "074fa73b-6a63-4950-941c-2eef2d867d49",
   "metadata": {},
   "outputs": [
    {
     "name": "stdout",
     "output_type": "stream",
     "text": [
      "equal\n"
     ]
    }
   ],
   "source": [
    "v1 = [11, 22]\n",
    "v2 = [11, 22]\n",
    "if v1 == v2:\n",
    "    print(\"equal\")\n",
    "else:\n",
    "    print(\"not equal\")"
   ]
  },
  {
   "cell_type": "markdown",
   "id": "f92b53d7-2e96-46db-9ada-6d11ebc9b73c",
   "metadata": {},
   "source": [
    "## `is` is used to check if two variables share the same memory"
   ]
  },
  {
   "cell_type": "code",
   "execution_count": 5,
   "id": "552af9b2-8e1e-4acd-b0d3-80fdbdcdb614",
   "metadata": {},
   "outputs": [
    {
     "name": "stdout",
     "output_type": "stream",
     "text": [
      "not equal\n"
     ]
    }
   ],
   "source": [
    "v1 = [11, 22]\n",
    "v2 = [11, 22]\n",
    "if v1 is v2:\n",
    "    print(\"equal\")\n",
    "else:\n",
    "    print(\"not equal\")"
   ]
  },
  {
   "cell_type": "markdown",
   "id": "b422f741-622d-4477-9538-f9f050fb00ba",
   "metadata": {},
   "source": [
    "### A cavaet is that Python will not allocate new memory for some commonly used values, such as, -5 ~ 257. "
   ]
  },
  {
   "cell_type": "code",
   "execution_count": 7,
   "id": "9a635c4a-8d40-46b9-a983-127bdf6580af",
   "metadata": {},
   "outputs": [
    {
     "name": "stdout",
     "output_type": "stream",
     "text": [
      "True\n"
     ]
    }
   ],
   "source": [
    "v1 = 100\n",
    "v2 = 100\n",
    "print(v1 is v2)  # The result is supposed to be False, but it gives True due to the fact that 100 is commonly used."
   ]
  },
  {
   "cell_type": "markdown",
   "id": "f59f9958-0a15-4e01-a2f0-4d616813c093",
   "metadata": {
    "tags": []
   },
   "source": [
    "### If you change v1, v2 will not be affected. Because `int` is not mutable."
   ]
  },
  {
   "cell_type": "code",
   "execution_count": 9,
   "id": "18a56293-55d9-40a5-bd71-2fee32442678",
   "metadata": {},
   "outputs": [
    {
     "name": "stdout",
     "output_type": "stream",
     "text": [
      "100\n"
     ]
    }
   ],
   "source": [
    "v1 = 100\n",
    "v2 = 100\n",
    "v1 = 200\n",
    "print(v2)"
   ]
  },
  {
   "cell_type": "code",
   "execution_count": 8,
   "id": "1d59ccb5-e84f-4398-9f47-0bf53916e2c3",
   "metadata": {},
   "outputs": [
    {
     "name": "stdout",
     "output_type": "stream",
     "text": [
      "False\n"
     ]
    }
   ],
   "source": [
    "v1 = 999\n",
    "v2 = 999\n",
    "print(v1 is v2)"
   ]
  },
  {
   "cell_type": "markdown",
   "id": "e4c13554-5d6d-4e26-90d2-d5b4a1e5083d",
   "metadata": {},
   "source": [
    "## Data types"
   ]
  },
  {
   "cell_type": "code",
   "execution_count": 16,
   "id": "ef49c277-a8a9-49df-b3c6-ffc32b5e04c9",
   "metadata": {},
   "outputs": [
    {
     "name": "stdout",
     "output_type": "stream",
     "text": [
      "999\n",
      "10\n",
      "520\n",
      "4112\n",
      "3\n"
     ]
    }
   ],
   "source": [
    "print(int('999')) # base=10 by default\n",
    "print(int('1010', base=2))\n",
    "print(int('1010', base=8))\n",
    "print(int('1010', base=16))\n",
    "print(int(3.14))"
   ]
  },
  {
   "cell_type": "markdown",
   "id": "d698c3f4-8e92-4abc-8267-5a11a272f7d5",
   "metadata": {},
   "source": [
    "### float type is stored in an unaccurate way. If you need to preform precise calculations, you can utilize the module of `decimal` as follows."
   ]
  },
  {
   "cell_type": "code",
   "execution_count": 15,
   "id": "d0559f9b-f216-472c-bfe8-7b3367cbc9ab",
   "metadata": {},
   "outputs": [
    {
     "name": "stdout",
     "output_type": "stream",
     "text": [
      "0.30000000000000004 0.5\n",
      "precise result with the decimal module 0.3\n"
     ]
    }
   ],
   "source": [
    "v1 = 0.1 + 0.2\n",
    "v2 = 0.2 + 0.3\n",
    "print(v1, v2)\n",
    "\n",
    "import decimal\n",
    "v1 = decimal.Decimal('0.1')\n",
    "v2 = decimal.Decimal('0.2')\n",
    "print('precise result with the decimal module', v1 + v2)"
   ]
  },
  {
   "cell_type": "markdown",
   "id": "fc2e9fea-f37f-4a8e-b3ac-d7f49ddd52c3",
   "metadata": {},
   "source": [
    "### `bool` will give `False` for `None`, `0`, empty str, empty dict, empty list, empty tuple"
   ]
  },
  {
   "cell_type": "markdown",
   "id": "05cc0020-233e-4f14-a87d-2751a4c6738e",
   "metadata": {},
   "source": [
    "### `str` methods: `strip`, `upper`, `lower`, `join`, `replace`. `str` supports `in`, `for`. `str` is immutable and hashable."
   ]
  },
  {
   "cell_type": "markdown",
   "id": "913a57b1-db6d-499d-bb06-8c0a45160986",
   "metadata": {},
   "source": [
    "### `list`: `append`, `insert`, `remove`, `reverse`. It is mutable and unhashable."
   ]
  },
  {
   "cell_type": "markdown",
   "id": "20beb44a-9121-49ff-a30f-f09e5a7d1c17",
   "metadata": {},
   "source": [
    "### `tuple` is immutable and hashable. If it contains unhashable items, then it will be unhashable."
   ]
  },
  {
   "cell_type": "markdown",
   "id": "5a0e9c06-295a-4f07-8a36-50d761e4dc11",
   "metadata": {},
   "source": [
    "### `dict`: `get`, `keys`, `values`, `items`. It is mutable and unhashable. Note that it is quick to query."
   ]
  },
  {
   "cell_type": "markdown",
   "id": "561dba3e-c6ff-4793-b154-5f855d10e91d",
   "metadata": {},
   "source": [
    "### `set`: unique, unordered, quick to query"
   ]
  },
  {
   "cell_type": "code",
   "execution_count": 21,
   "id": "91fc7e6f-98a2-4f55-ae94-96de7ab7804e",
   "metadata": {},
   "outputs": [
    {
     "data": {
      "text/plain": [
       "{1, 2}"
      ]
     },
     "execution_count": 21,
     "metadata": {},
     "output_type": "execute_result"
    }
   ],
   "source": [
    "v1 = set() # or v1 = {1, 2}\n",
    "v1.add(1)\n",
    "v1.add(2)\n",
    "v1"
   ]
  },
  {
   "cell_type": "code",
   "execution_count": 22,
   "id": "ec0d2496-e933-4088-910e-7e83faed7984",
   "metadata": {},
   "outputs": [
    {
     "data": {
      "text/plain": [
       "{1, 2}"
      ]
     },
     "execution_count": 22,
     "metadata": {},
     "output_type": "execute_result"
    }
   ],
   "source": [
    "# remove repeats\n",
    "v1 = [1,2,1]\n",
    "set(v1)"
   ]
  },
  {
   "cell_type": "code",
   "execution_count": 23,
   "id": "9a63f20f-1cdc-415b-849f-a620cae80f5f",
   "metadata": {},
   "outputs": [
    {
     "name": "stdout",
     "output_type": "stream",
     "text": [
      "intersection {2, 3}\n",
      "union {1, 2, 3, 4}\n",
      "difference {1}\n"
     ]
    }
   ],
   "source": [
    "# set operations: intersection, union, difference\n",
    "v1 = {1,2,3}\n",
    "v2 = {2,3,4}\n",
    "print('intersection', v1 & v2)\n",
    "print('union', v1 | v2)\n",
    "print('difference', v1 - v2)"
   ]
  },
  {
   "cell_type": "markdown",
   "id": "871cf588-68f1-4a8c-9e17-f27ef823aca2",
   "metadata": {},
   "source": [
    "# configparser"
   ]
  },
  {
   "cell_type": "code",
   "execution_count": 38,
   "id": "b31a3ff7-a9ac-4cbd-b976-f5349ce35265",
   "metadata": {},
   "outputs": [
    {
     "name": "stdout",
     "output_type": "stream",
     "text": [
      "['section1', 'section2']\n",
      "[('a', '1'), ('b', '2')]\n",
      "1\n",
      "True\n"
     ]
    }
   ],
   "source": [
    "import configparser, os\n",
    "# base_dir = os.path.dirname(os.path.abspath(__file__))\n",
    "# fn = os.path.join(base_dir, 'my.ini')\n",
    "\n",
    "config = configparser.ConfigParser()\n",
    "config.read('my.ini', encoding='utf-8')\n",
    "\n",
    "# 1. \n",
    "sec_list = config.sections() # get sections\n",
    "print(sec_list)\n",
    "# 2.\n",
    "items = config.items('section1')\n",
    "print(items)\n",
    "# 3.\n",
    "c = config.get('section2', 'c')\n",
    "print(c)\n",
    "# 4.\n",
    "exist = config.has_section('section2')\n",
    "print(exist)\n",
    "# 5. \n",
    "config.add_section('group')\n",
    "config.set('group', 'name', 'math')\n",
    "with open('xx.ini', mode='w', encoding='utf-8') as f:\n",
    "    config.write(f)\n",
    "# 6.\n",
    "config.remove_section('section1')\n",
    "with open('xx.ini', mode='w', encoding='utf-8') as f:\n",
    "    config.write(f)\n",
    "# 7.\n",
    "config.remove_option('section2', 'c')\n",
    "with open('xx.ini', mode='w', encoding='utf-8') as f:\n",
    "    config.write(f)    \n",
    "# 8.\n",
    "config.set('section2', 'd', '10')\n",
    "with open('xx.ini', mode='w', encoding='utf-8') as f:\n",
    "    config.write(f)   "
   ]
  },
  {
   "cell_type": "markdown",
   "id": "03a32b15-87f8-4bc3-a25d-79f084966fda",
   "metadata": {},
   "source": [
    "## display a dict in a better way with json"
   ]
  },
  {
   "cell_type": "code",
   "execution_count": 40,
   "id": "18e088be-75c3-4ad2-8d6a-cd2ffc713677",
   "metadata": {},
   "outputs": [
    {
     "name": "stdout",
     "output_type": "stream",
     "text": [
      "{\n",
      "    \"a\": {\n",
      "        \"aa\": 1,\n",
      "        \"bb\": 2\n",
      "    },\n",
      "    \"b\": {\n",
      "        \"aa\": 1,\n",
      "        \"bb\": 2\n",
      "    }\n",
      "}\n"
     ]
    }
   ],
   "source": [
    "import json\n",
    "d = {'a': {'aa':1, 'bb':2}, 'b': {'aa':1, 'bb':2}}\n",
    "formated_d = json.dumps(d, indent=4)\n",
    "print(formated_d)"
   ]
  },
  {
   "cell_type": "code",
   "execution_count": 41,
   "id": "a1f7f387-f3aa-423e-b534-c94b43999b18",
   "metadata": {},
   "outputs": [
    {
     "data": {
      "text/plain": [
       "'{\\n    \"a\": {\\n        \"aa\": 1,\\n        \"bb\": 2\\n    },\\n    \"b\": {\\n        \"aa\": 1,\\n        \"bb\": 2\\n    }\\n}'"
      ]
     },
     "execution_count": 41,
     "metadata": {},
     "output_type": "execute_result"
    }
   ],
   "source": [
    "formated_d"
   ]
  },
  {
   "cell_type": "code",
   "execution_count": null,
   "id": "96315305-2f45-4cc5-82a1-ffce3d8ff1a2",
   "metadata": {},
   "outputs": [],
   "source": []
  }
 ],
 "metadata": {
  "kernelspec": {
   "display_name": "Python 3 (ipykernel)",
   "language": "python",
   "name": "python3"
  },
  "language_info": {
   "codemirror_mode": {
    "name": "ipython",
    "version": 3
   },
   "file_extension": ".py",
   "mimetype": "text/x-python",
   "name": "python",
   "nbconvert_exporter": "python",
   "pygments_lexer": "ipython3",
   "version": "3.10.6"
  }
 },
 "nbformat": 4,
 "nbformat_minor": 5
}
