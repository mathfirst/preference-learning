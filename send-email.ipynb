{
 "cells": [
  {
   "cell_type": "code",
   "execution_count": null,
   "id": "12441afe-37f2-44e8-89a4-290e287f81c6",
   "metadata": {},
   "outputs": [],
   "source": [
    "def send_email(to, subject, content):\n",
    "    import smtplib\n",
    "    from email.mime.text import MIMEText\n",
    "    from email.utils import formataddr\n",
    "\n",
    "    msg = MIMEText(content, \"html\", \"utf-8\")\n",
    "    msg['Subject'] = subject\n",
    "    msg['From'] = formataddr([\"Youming Zhao\", \"kkai_zhao@yeah.net\"])\n",
    "    msg['to'] = to\n",
    "\n",
    "    server = smtplib.SMTP_SSL(\"smtp.yeah.net\")\n",
    "    server.login(\"kkai_zhao@yeah.net\", \"VRESWICGCTCUUHBT\")\n",
    "    server.sendmail(\"kkai_zhao@yeah.net\", to, msg.as_string())\n",
    "    server.quit()"
   ]
  }
 ],
 "metadata": {
  "kernelspec": {
   "display_name": "Python 3 (ipykernel)",
   "language": "python",
   "name": "python3"
  },
  "language_info": {
   "codemirror_mode": {
    "name": "ipython",
    "version": 3
   },
   "file_extension": ".py",
   "mimetype": "text/x-python",
   "name": "python",
   "nbconvert_exporter": "python",
   "pygments_lexer": "ipython3",
   "version": "3.10.6"
  }
 },
 "nbformat": 4,
 "nbformat_minor": 5
}
