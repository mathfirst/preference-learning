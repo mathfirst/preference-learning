{
 "cells": [
  {
   "cell_type": "markdown",
   "id": "2da8a128-05c5-4e55-8c83-f66849298717",
   "metadata": {},
   "source": [
    "## Regular Expression Syntax"
   ]
  },
  {
   "cell_type": "markdown",
   "id": "73f902f9-ca31-4625-ba2e-6a3f898f6a2e",
   "metadata": {},
   "source": [
    "### \\w this includes alphanumeric characters (as defined by str.isalnum()) as well as the underscore (_). If the ASCII flag is used, only [a-zA-Z0-9_] is matched.\n",
    "For example, if you want to match an email address, \\w+@\\w+.\\w+ will help. "
   ]
  },
  {
   "cell_type": "code",
   "execution_count": 2,
   "id": "cef0bc59-dd34-4e55-8407-1933f1ad6526",
   "metadata": {},
   "outputs": [
    {
     "data": {
      "text/plain": [
       "['hello_world_19@greatwall.com', '123_456@math.com']"
      ]
     },
     "execution_count": 2,
     "metadata": {},
     "output_type": "execute_result"
    }
   ],
   "source": [
    "text = \"This message includes two email addresses, hello_world_19@greatwall.com and 123_456@math.com, and two Chinese mobilephone numbers: 12345678910 and 15136985214.\"\n",
    "import re\n",
    "res = re.findall(r\"\\w+@\\w+.\\w+\", text, re.ASCII)\n",
    "res"
   ]
  },
  {
   "cell_type": "markdown",
   "id": "107fdd1d-0e90-4b5d-8809-cce6bc498629",
   "metadata": {},
   "source": [
    "### \\d This includes [0-9], and also many other digit characters. If the ASCII flag is used only [0-9] is matched.\n",
    "If you need to match a phone number, \"\\d{11}\" will help"
   ]
  },
  {
   "cell_type": "code",
   "execution_count": 4,
   "id": "c1b8dcbd-bf4c-4f84-acc1-7a7080c23b18",
   "metadata": {},
   "outputs": [
    {
     "data": {
      "text/plain": [
       "['12345678910', '15136985214']"
      ]
     },
     "execution_count": 4,
     "metadata": {},
     "output_type": "execute_result"
    }
   ],
   "source": [
    "res = re.findall(r\"\\d{11}\", text)\n",
    "res"
   ]
  },
  {
   "cell_type": "markdown",
   "id": "b215969b-58fa-4314-95b0-c9179526a8c7",
   "metadata": {},
   "source": [
    "### `re.match` can be used be validate format"
   ]
  },
  {
   "cell_type": "code",
   "execution_count": 8,
   "id": "50d9366b-e62e-4416-98c6-e3299e08b5b9",
   "metadata": {},
   "outputs": [
    {
     "name": "stdin",
     "output_type": "stream",
     "text": [
      "email:  ...\n"
     ]
    },
    {
     "name": "stdout",
     "output_type": "stream",
     "text": [
      "invalid email\n"
     ]
    }
   ],
   "source": [
    "email = input(\"email: \")\n",
    "is_valid = re.match(r\"^\\w+@\\w+.\\w+$\", email)\n",
    "if is_valid:\n",
    "    print(f\"valid email: {email}\")\n",
    "else:\n",
    "    print(f\"invalid email\")"
   ]
  },
  {
   "cell_type": "markdown",
   "id": "972516da-c6ba-4085-8689-67c574475552",
   "metadata": {},
   "source": [
    "## 1. about characters"
   ]
  },
  {
   "cell_type": "markdown",
   "id": "47793707-a217-48d7-8737-13b8c142a840",
   "metadata": {},
   "source": [
    "### fixed string"
   ]
  },
  {
   "cell_type": "code",
   "execution_count": 9,
   "id": "7c5300bb-7f04-428b-94a0-e26ca5485d37",
   "metadata": {},
   "outputs": [
    {
     "data": {
      "text/plain": [
       "['wupeiqi', 'wupeiqi']"
      ]
     },
     "execution_count": 9,
     "metadata": {},
     "output_type": "execute_result"
    }
   ],
   "source": [
    "text = \"wupeiqi hello world wupeiqi\"\n",
    "res = re.findall(r\"wupeiqi\", text)\n",
    "res"
   ]
  },
  {
   "cell_type": "markdown",
   "id": "83b956c1-5cc9-4d1b-91ac-bd2fdd7101ec",
   "metadata": {},
   "source": [
    "### dynamic string [a-z], [0-9]"
   ]
  },
  {
   "cell_type": "code",
   "execution_count": 11,
   "id": "428d072a-999f-42ff-b463-6fc92fc49756",
   "metadata": {},
   "outputs": [
    {
     "data": {
      "text/plain": [
       "['wupeiqia']"
      ]
     },
     "execution_count": 11,
     "metadata": {},
     "output_type": "execute_result"
    }
   ],
   "source": [
    "text = \"wupeiqia hello world wupeiqib\"\n",
    "res = re.findall(r\"wupeiqi[ai]\", text)  #'wupeiqia', 'wupeiqii'\n",
    "res"
   ]
  },
  {
   "cell_type": "code",
   "execution_count": 12,
   "id": "ba8603bf-2aba-4961-8167-84500cd2b9b9",
   "metadata": {},
   "outputs": [
    {
     "data": {
      "text/plain": [
       "['wupeiqia', 'wupeiqib']"
      ]
     },
     "execution_count": 12,
     "metadata": {},
     "output_type": "execute_result"
    }
   ],
   "source": [
    "res = re.findall(r\"wupeiqi[a-z]\", text)  #'wupeiqia', 'wupeiqib' ... 'wupeiqiz'\n",
    "res"
   ]
  },
  {
   "cell_type": "markdown",
   "id": "1916969f-f58a-4327-9a07-9bd653e335ae",
   "metadata": {},
   "source": [
    "### \\d refers to one digit"
   ]
  },
  {
   "cell_type": "code",
   "execution_count": 14,
   "id": "10428f4c-6b60-4121-83dc-aedad1f5fb7f",
   "metadata": {},
   "outputs": [
    {
     "data": {
      "text/plain": [
       "['1', '2', '3']"
      ]
     },
     "execution_count": 14,
     "metadata": {},
     "output_type": "execute_result"
    }
   ],
   "source": [
    "text = \"hello 123\"\n",
    "res = re.findall(r\"\\d\", text)  #\n",
    "res"
   ]
  },
  {
   "cell_type": "code",
   "execution_count": 15,
   "id": "db054993-b3d1-4cd7-9c59-7a62ddae06d2",
   "metadata": {},
   "outputs": [
    {
     "data": {
      "text/plain": [
       "['12']"
      ]
     },
     "execution_count": 15,
     "metadata": {},
     "output_type": "execute_result"
    }
   ],
   "source": [
    "res = re.findall(r\"\\d\\d\", text)  #\n",
    "res"
   ]
  },
  {
   "cell_type": "code",
   "execution_count": 18,
   "id": "73f6d486-086a-4f44-9efc-fbc75b6dd4f1",
   "metadata": {},
   "outputs": [
    {
     "data": {
      "text/plain": [
       "['12', '34']"
      ]
     },
     "execution_count": 18,
     "metadata": {},
     "output_type": "execute_result"
    }
   ],
   "source": [
    "res = re.findall(r\"\\d\\d\", \"hello 1234\")  #\n",
    "res"
   ]
  },
  {
   "cell_type": "code",
   "execution_count": 17,
   "id": "7cec73be-6a83-49cb-ba56-1f3810f1d4e1",
   "metadata": {},
   "outputs": [
    {
     "data": {
      "text/plain": [
       "['123']"
      ]
     },
     "execution_count": 17,
     "metadata": {},
     "output_type": "execute_result"
    }
   ],
   "source": [
    "res = re.findall(r\"\\d{3}\", text)  #\n",
    "res"
   ]
  },
  {
   "cell_type": "code",
   "execution_count": null,
   "id": "6e0e2fce-af84-4191-b610-95b684ef7291",
   "metadata": {},
   "outputs": [],
   "source": []
  }
 ],
 "metadata": {
  "kernelspec": {
   "display_name": "Python 3 (ipykernel)",
   "language": "python",
   "name": "python3"
  },
  "language_info": {
   "codemirror_mode": {
    "name": "ipython",
    "version": 3
   },
   "file_extension": ".py",
   "mimetype": "text/x-python",
   "name": "python",
   "nbconvert_exporter": "python",
   "pygments_lexer": "ipython3",
   "version": "3.10.6"
  }
 },
 "nbformat": 4,
 "nbformat_minor": 5
}
