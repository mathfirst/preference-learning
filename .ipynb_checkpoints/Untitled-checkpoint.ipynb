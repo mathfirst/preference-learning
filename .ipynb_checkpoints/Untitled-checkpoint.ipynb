{
 "cells": [
  {
   "cell_type": "code",
   "execution_count": 1,
   "id": "6b6790a2-1da9-4cd4-99a4-97d9d99e6d01",
   "metadata": {},
   "outputs": [
    {
     "data": {
      "text/plain": [
       "dict_keys(['qed_list', 'sa_list', 'vina_list', 'lipinski_list', 'raw_result', 'logp_list', 'time_list', 'diversity_list', 'high_affinity_list', 'connectedness_rate'])"
      ]
     },
     "execution_count": 1,
     "metadata": {},
     "output_type": "execute_result"
    }
   ],
   "source": [
    "import torch\n",
    "\n",
    "ckp70 = torch.load(r\"E:\\download\\result_70.pt\")\n",
    "ckp70.keys()"
   ]
  },
  {
   "cell_type": "code",
   "execution_count": 2,
   "id": "e91ecbf8-40d5-49e4-b82c-3c02f36dda02",
   "metadata": {},
   "outputs": [
    {
     "data": {
      "text/plain": [
       "2"
      ]
     },
     "execution_count": 2,
     "metadata": {},
     "output_type": "execute_result"
    }
   ],
   "source": [
    "len(ckp70['qed_list'])"
   ]
  },
  {
   "cell_type": "code",
   "execution_count": 3,
   "id": "2d43a97d-4de5-4730-8b2b-a390d6b48667",
   "metadata": {},
   "outputs": [
    {
     "data": {
      "text/plain": [
       "[0.411522633744856, 0.5524861878453039]"
      ]
     },
     "execution_count": 3,
     "metadata": {},
     "output_type": "execute_result"
    }
   ],
   "source": [
    "ckp70['connectedness_rate']"
   ]
  },
  {
   "cell_type": "code",
   "execution_count": 4,
   "id": "201d64ee-e168-4c9e-be2f-7fbfc96d6b51",
   "metadata": {},
   "outputs": [
    {
     "data": {
      "text/plain": [
       "2"
      ]
     },
     "execution_count": 4,
     "metadata": {},
     "output_type": "execute_result"
    }
   ],
   "source": [
    "len(ckp70['raw_result'])"
   ]
  },
  {
   "cell_type": "code",
   "execution_count": 5,
   "id": "154094cd-2bf4-4cc0-86d3-deb7e2d2f008",
   "metadata": {},
   "outputs": [
    {
     "data": {
      "text/plain": [
       "2"
      ]
     },
     "execution_count": 5,
     "metadata": {},
     "output_type": "execute_result"
    }
   ],
   "source": [
    "len(ckp70['time_list'])"
   ]
  },
  {
   "cell_type": "code",
   "execution_count": 6,
   "id": "70c07cd3-056b-4e37-9f72-f47efc667187",
   "metadata": {},
   "outputs": [
    {
     "data": {
      "text/plain": [
       "1"
      ]
     },
     "execution_count": 6,
     "metadata": {},
     "output_type": "execute_result"
    }
   ],
   "source": [
    "for k in ckp70.keys():\n",
    "    ckp70[k].pop()\n",
    "len(ckp70['time_list'])"
   ]
  },
  {
   "cell_type": "code",
   "execution_count": 7,
   "id": "946d5615-365f-4ff4-981e-8964e687d48f",
   "metadata": {},
   "outputs": [],
   "source": [
    "torch.save(ckp70, r\"E:\\download\\result_70.pt\")"
   ]
  },
  {
   "cell_type": "code",
   "execution_count": 8,
   "id": "fdd4461e-80b8-4abc-aa76-f5c66d204bf1",
   "metadata": {},
   "outputs": [
    {
     "data": {
      "text/plain": [
       "1"
      ]
     },
     "execution_count": 8,
     "metadata": {},
     "output_type": "execute_result"
    }
   ],
   "source": [
    "ckp81 = torch.load(r\"E:\\download\\result_81.pt\")\n",
    "len(ckp81['qed_list'])"
   ]
  },
  {
   "cell_type": "code",
   "execution_count": 10,
   "id": "de40a498-e71b-4c94-9d32-7fc6f9af385c",
   "metadata": {},
   "outputs": [
    {
     "data": {
      "text/plain": [
       "[15747.237435007095]"
      ]
     },
     "execution_count": 10,
     "metadata": {},
     "output_type": "execute_result"
    }
   ],
   "source": [
    "ckp81['time_list']"
   ]
  },
  {
   "cell_type": "code",
   "execution_count": 11,
   "id": "c64d8323-6fa5-413f-9ea2-afdf96230ba2",
   "metadata": {},
   "outputs": [
    {
     "data": {
      "text/plain": [
       "36000"
      ]
     },
     "execution_count": 11,
     "metadata": {},
     "output_type": "execute_result"
    }
   ],
   "source": [
    "10*60*60"
   ]
  },
  {
   "cell_type": "code",
   "execution_count": null,
   "id": "91ef0357-c079-4b4d-9fd9-70a9b145d1d8",
   "metadata": {},
   "outputs": [],
   "source": [
    "import os, torch\n",
    "import numpy as np\n",
    "\n",
    "res_dir = \"/datapool/data2/home/pengxingang/zhaoyouming/DiffSBDD/final_res\"\n",
    "pt_files = os.listdir(res_dir)\n",
    "res_dict = {}\n",
    "for f in pt_files:\n",
    "    res = torch.load(os.path.join(res_dir, f))\n",
    "    for k, v in res.items():\n",
    "        if 'list' in k:\n",
    "            if k not in res:\n",
    "                res_dict[k] = v\n",
    "            else:\n",
    "                res_dict[k] += v\n",
    "                \n",
    "print('number of pockets', len(res_dict[k]))\n",
    "for k, v in res_dict.items():\n",
    "    if k == 'time_list':        \n",
    "        v = [t for t in v if t < 8*60*60]\n",
    "        print(\"len of time list\", len(v))\n",
    "    print(k, f\"{np.mean(v)} \\u00b1 {np.std(v)}\")"
   ]
  }
 ],
 "metadata": {
  "kernelspec": {
   "display_name": "Python 3 (ipykernel)",
   "language": "python",
   "name": "python3"
  },
  "language_info": {
   "codemirror_mode": {
    "name": "ipython",
    "version": 3
   },
   "file_extension": ".py",
   "mimetype": "text/x-python",
   "name": "python",
   "nbconvert_exporter": "python",
   "pygments_lexer": "ipython3",
   "version": "3.10.6"
  }
 },
 "nbformat": 4,
 "nbformat_minor": 5
}
