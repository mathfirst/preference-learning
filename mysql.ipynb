{
 "cells": [
  {
   "cell_type": "markdown",
   "id": "c43c88e9-93c1-4d7c-a537-ed6ed37a696e",
   "metadata": {},
   "source": [
    "## Download mysql \n",
    "https://downloads.mysql.com/archives/community/"
   ]
  },
  {
   "cell_type": "markdown",
   "id": "e6693fe0-aaa0-40b5-af4d-375af4166de4",
   "metadata": {},
   "source": [
    "## unzip it and put it under a folder, say\n",
    "D:\\Program Files\\mysql-8.0.33-winx64"
   ]
  },
  {
   "cell_type": "markdown",
   "id": "a37f1930-565a-4061-bbf0-51e7afbfb622",
   "metadata": {},
   "source": [
    "## initialize mysql through the following steps:\n",
    "1. create a file `my.ini` under `D:\\Program Files\\mysql-8.0.33-winx64`. Its content is\n",
    "```\n",
    "[mysqld]\n",
    "\n",
    "port=3306\n",
    "\n",
    "basedir=D:\\\\Program Files\\\\mysql-8.0.33-winx64\n",
    "\n",
    "datadir=D:\\\\Program Files\\\\mysql-8.0.33-winx64\\\\data\n",
    "```\n",
    "2. open a cmd terminal with an administrator previlige and type in:\n",
    "```\n",
    "D:\\Program Files\\mysql-8.0.33-winx64\\bin\\mysqld.exe\" --initialize-insecure\n",
    "```\n",
    "3. install a service called mysql8033 (you can use a different name) so that you can use mysql later\n",
    "```\n",
    "\"D:\\Program Files\\mysql-8.0.33-winx64\\bin\\mysqld.exe\" --install mysql8033\n",
    "```\n",
    "4. start the service via:\n",
    "```\n",
    "net start mysql8033\n",
    "```\n",
    "5. stop the service via:\n",
    "```\n",
    "net stop mysql8033\n",
    "```"
   ]
  },
  {
   "cell_type": "markdown",
   "id": "c530199b-930f-4798-9aff-b3c77aab638c",
   "metadata": {},
   "source": [
    "### You can also start a service via GUI:\n",
    "Task manager -> Services -> Open services -> mysql8033, then right click and start"
   ]
  },
  {
   "cell_type": "markdown",
   "id": "70ab81ac-6a9b-4b68-8731-89ae5c60cae7",
   "metadata": {},
   "source": [
    "### Add mysql as an environment virable\n",
    "My PC (right click) properties -> advanced system settings -> System variables -> Path -> Edit -> New\n",
    "\n",
    "Paste `D:\\Program Files\\mysql-8.0.33-winx64\\bin\\mysql.exe` here and restart your terminal. \n",
    "\n",
    "Now you can connect to database via:\n",
    "```\n",
    "mysql -u root -p\n",
    "```\n",
    "You can set a password:\n",
    "```\n",
    "SET PASSWORD='123';\n",
    "```"
   ]
  },
  {
   "cell_type": "markdown",
   "id": "2edfac29-5e1f-4aa1-b192-2984b3267860",
   "metadata": {},
   "source": [
    "### Some common commands\n",
    "To check databases\n",
    "```mysql\n",
    "show databases\n",
    "```\n",
    "To exit\n",
    "```mysql\n",
    "exit;\n",
    "```\n",
    "Create a database\n",
    "```mysql\n",
    "create database [name];\n",
    "```\n",
    "```mysql\n",
    "create database [name] DEFAULT CHARSET utf8 COLLATE utf8_general_ci;\n",
    "```\n",
    "Delete a database\n",
    "```mysql\n",
    "drop database xxx;\n",
    "```\n",
    "Enter a database\n",
    "```mysql\n",
    "use xx;\n",
    "```\n",
    "Show the tables in the current database\n",
    "```mysql\n",
    "show tables;\n",
    "```\n",
    "Create a table\n",
    "```mysql\n",
    "create table tb1(\n",
    "    id int,\n",
    "    name varchar(16) not null,\n",
    "    age int null  # By default, null is allowed\n",
    ") default charset=utf8;\n",
    "```\n",
    "Drop tables\n",
    "```mysql\n",
    "drop table tb1;\n",
    "```\n"
   ]
  },
  {
   "cell_type": "markdown",
   "id": "6d9e0cb2-8d4d-42b1-91ae-4a9a3549d347",
   "metadata": {},
   "source": [
    "## What if you forgot your password\n",
    "1. stop your service\n",
    "```\n",
    "net stop mysql8033\n",
    "```\n",
    "2. append the following line to the my.ini\n",
    "```\n",
    "skip-grant-tables=1\n",
    "```\n",
    "3. restart your service\n",
    "```\n",
    "net start mysql8033\n",
    "```\n",
    "4. this time you can login without password\n",
    "```\n",
    "mysql -u root -p\n",
    "```\n",
    "5. you can change your password\n",
    "```\n",
    "use mysql;\n",
    "```"
   ]
  },
  {
   "cell_type": "code",
   "execution_count": 20,
   "id": "b328431e-8f8c-4da4-a402-cc975afcd43c",
   "metadata": {},
   "outputs": [
    {
     "name": "stdout",
     "output_type": "stream",
     "text": [
      "(('information_schema',), ('mysql',), ('performance_schema',), ('sys',), ('xx',))\n",
      "(('tb1',),)\n"
     ]
    }
   ],
   "source": [
    "import pymysql as sql\n",
    "\n",
    "conn = sql.connect(host='127.0.0.1', port=3306, user='root', passwd='123', charset='utf8', database='xx')\n",
    "cursor = conn.cursor()\n",
    "\n",
    "# show databases\n",
    "cursor.execute('show databases;')\n",
    "result = cursor.fetchall()\n",
    "print(result)\n",
    "\n",
    "# # create a database\n",
    "# cursor.execute('create database xxx;')\n",
    "# conn.commit()\n",
    "\n",
    "# # delete a database\n",
    "# cursor.execute('drop database xxx;')\n",
    "# conn.commit()\n",
    "\n",
    "# cursor.execute('use xx;')\n",
    "cursor.execute('show tables;')\n",
    "result = cursor.fetchall()\n",
    "print(result)\n",
    "\n",
    "# command = \"\"\"create table tb2(\n",
    "#     id int,\n",
    "#     name varchar(16),\n",
    "#     age int\n",
    "# ) default charset=utf8;\n",
    "# \"\"\"\n",
    "# cursor.execute(command)\n",
    "# conn.commit()\n",
    "\n",
    "# cursor.execute('drop table tb2;')\n",
    "# conn.commit()\n",
    "\n",
    "cursor.close()\n",
    "conn.close()"
   ]
  },
  {
   "cell_type": "markdown",
   "id": "71e75e6d-417e-460e-a7de-a79d59f739a0",
   "metadata": {},
   "source": [
    "### default value\n",
    "Create a table with default values\n",
    "```mysql\n",
    "create table tb1(\n",
    "    id int,\n",
    "    name varchar(16) not null,\n",
    "    age int default 3  # By default, null is allowed\n",
    ") default charset=utf8;\n",
    "```"
   ]
  },
  {
   "cell_type": "markdown",
   "id": "46558f67-fec9-4a7f-be07-ca4756d65365",
   "metadata": {},
   "source": [
    "### primary key\n",
    "Create a table with a primary key\n",
    "```mysql\n",
    "create table tb1(\n",
    "    id int,\n",
    "    name varchar(16) not null,\n",
    "    age int default 3  # By default, null is allowed\n",
    ") default charset=utf8;\n",
    "```"
   ]
  },
  {
   "cell_type": "markdown",
   "id": "7b8a6e34-e51b-426a-9af5-5b0fb2fcb516",
   "metadata": {},
   "source": [
    "### auto_increment\n",
    "```mysql\n",
    "create table tb2(\n",
    "    id int not null auto_increment primary key,\n",
    "    name varchar(16) not null,\n",
    "    age int default 3  # By default, null is allowed\n",
    ") default charset=utf8;\n",
    "```\n",
    "```mysql\n",
    "insert into tb2(name, age) values('aa', 3);\n",
    "insert into tb2(name, age) values('bb', 4);\n",
    "insert into tb2(name) values('cc');\n",
    "```\n",
    "```mysql\n",
    "select * from tb2;\n",
    "```"
   ]
  },
  {
   "cell_type": "markdown",
   "id": "d7e5f372-906a-4f46-946c-a1c0b8920e3a",
   "metadata": {},
   "source": [
    "```mysql\n",
    "desc tb2;\n",
    "```\n",
    "```\n",
    "+-------+-------------+------+-----+---------+----------------+\n",
    "| Field | Type        | Null | Key | Default | Extra          |\n",
    "+-------+-------------+------+-----+---------+----------------+\n",
    "| id    | int         | NO   | PRI | NULL    | auto_increment |\n",
    "| name  | varchar(16) | NO   |     | NULL    |                |\n",
    "| age   | int         | YES  |     | 3       |                |\n",
    "+-------+-------------+------+-----+---------+----------------+\n",
    "3 rows in set (0.00 sec)\n",
    "```"
   ]
  },
  {
   "cell_type": "markdown",
   "id": "6cf82649-4efc-4a3e-a598-e45dbc980e8d",
   "metadata": {},
   "source": [
    "### Types\n",
    "1. tinyint\n",
    "\n",
    "-127 -- 127\n",
    "\n",
    "unsigned 0-255\n",
    "```mysql\n",
    "create table tb3(\n",
    "    id int not null auto_increment primary key,\n",
    "    name varchar(16) not null,\n",
    "    age tinyint unsigned default 3  # By default, null is allowed\n",
    ") default charset=utf8;\n",
    "```\n",
    "2. int\n",
    "3. bigint\n",
    "4. char \n",
    "\n",
    " fixed length\n",
    " \n",
    "5. varchar\n",
    "\n",
    " dynamic length\n",
    " \n",
    "6. text\n",
    "```mysql\n",
    "create table tb3(\n",
    "    id int not null auto_increment primary key,\n",
    "    name varchar(16) not null,\n",
    "    content text \n",
    ") default charset=utf8;\n",
    "```\n",
    "7. mediumtext\n",
    "8. longtext\n",
    "9. datetime\n",
    "```\n",
    "YYYY-MM-DD HH:MM:SS\n",
    "```\n",
    "10. date\n",
    "```\n",
    "YYYY-MM-DD\n",
    "```\n",
    "```mysql\n",
    "create table tb4(\n",
    "    id int not null auto_increment primary key,\n",
    "    name varchar(16) not null,\n",
    "    ctime date \n",
    ") default charset=utf8;\n",
    "```\n",
    "```mysql\n",
    "insert into tb4(name,ctime) values('a','2023-08-8');\n",
    "```"
   ]
  },
  {
   "cell_type": "markdown",
   "id": "ef810ad4-150f-478d-84e8-b1ea29e50c30",
   "metadata": {},
   "source": [
    "11. float\n",
    "12. double\n",
    "13. decimal(m,d)\n",
    "```mysql\n",
    "create table tb4(\n",
    "    id int not null auto_increment primary key,\n",
    "    name varchar(16) not null,\n",
    "    salary decimal(8,2)  \n",
    ") default charset=utf8;\n",
    "```"
   ]
  },
  {
   "cell_type": "markdown",
   "id": "5a3c8f3b-6983-4ec9-8f41-72b635faeab8",
   "metadata": {},
   "source": [
    "### row operation\n",
    "```mysql\n",
    "create table tb5(\n",
    "    id bigint unsigned not null auto_increment primary key,\n",
    "    name varchar(16),\n",
    "    mobile char(11),\n",
    "    salary decimal(10,2),\n",
    "    ctime datetime\n",
    ") default charset=utf8;\n",
    "insert into tb5(name, mobile, salary, ctime) values\n",
    "    ('a', '12345678910', 1000, '2023-08-08'), \n",
    "    ('b', '12345678910', 1000, '2023-08-08');\n",
    "```\n",
    "#### delete\n",
    "```mysql\n",
    "delete from tb5;\n",
    "delete from tb5 where condition;\n",
    "delete from tb5 where id=2;\n",
    "delete from tb5 where id>2 and name='xxx';\n",
    "delete from tb5 where id!=2;\n",
    "delete from tb5 where id>=2;\n",
    "delete from tb5 where id in (1,2);\n",
    "```\n",
    "#### update\n",
    "```mysql\n",
    "update tb5 set mobile='199999999';\n",
    "update tb5 set mobile='199999999', salary=2000 where name='xxx';\n",
    "```\n",
    "#### search\n",
    "```mysql\n",
    "select * from tb5;\n",
    "select id, name from tb5 where id >3;\n",
    "```"
   ]
  },
  {
   "cell_type": "code",
   "execution_count": 34,
   "id": "9f3cc911-8982-47fd-957c-65c1d38a35c5",
   "metadata": {},
   "outputs": [
    {
     "name": "stdout",
     "output_type": "stream",
     "text": [
      "[{'id': 1, 'name': 'a', 'mobile': '12345678910', 'salary': Decimal('1000.00'), 'ctime': datetime.datetime(2023, 8, 8, 0, 0)}, {'id': 6, 'name': 'd', 'mobile': '5555555', 'salary': Decimal('5000.00'), 'ctime': datetime.datetime(2023, 8, 8, 0, 0)}]\n",
      "None\n"
     ]
    }
   ],
   "source": [
    "import pymysql as sql\n",
    "from pymysql.cursors import DictCursor\n",
    "\n",
    "conn = sql.connect(host='127.0.0.1', port=3306, user='root', passwd='123', charset='utf8', database='xx')\n",
    "# cursor = conn.cursor()\n",
    "cursor = conn.cursor(cursor=DictCursor)\n",
    "\n",
    "# # insert\n",
    "# cmd = \"insert into tb5(name, mobile, salary, ctime) values('c', '12345678910', 1000, '2023-08-08'), ('d', '12345678910', 1000, '2023-08-08');\"\n",
    "# cursor.execute(cmd)\n",
    "# conn.commit()\n",
    "\n",
    "# # delete \n",
    "# cmd = \"delete from tb5 where id=5;\"\n",
    "# cursor.execute(cmd)\n",
    "# conn.commit()\n",
    "\n",
    "# # change \n",
    "# cmd = \"update tb5 set salary=5000, mobile='5555555' where id=6;\"\n",
    "# cursor.execute(cmd)\n",
    "# conn.commit()\n",
    "\n",
    "# search\n",
    "cmd = \"select * from tb5\"\n",
    "cursor.execute(cmd)\n",
    "result = cursor.fetchall()\n",
    "print(result)\n",
    "\n",
    "# result = cursor.fetchone()\n",
    "# print(result)\n",
    "\n",
    "cursor.close()\n",
    "conn.close()"
   ]
  },
  {
   "cell_type": "code",
   "execution_count": 42,
   "id": "31432808-599b-4e14-8c27-31ae77aa86b2",
   "metadata": {},
   "outputs": [
    {
     "name": "stdin",
     "output_type": "stream",
     "text": [
      "user: s\n",
      "password: 1\n",
      "phone: 123\n"
     ]
    },
    {
     "name": "stdout",
     "output_type": "stream",
     "text": [
      "((1, 'w', 'w', '123'), (3, 's', '1', '123'))\n"
     ]
    },
    {
     "name": "stdin",
     "output_type": "stream",
     "text": [
      "user: f\n",
      "password: 4\n",
      "phone: 345\n"
     ]
    },
    {
     "name": "stdout",
     "output_type": "stream",
     "text": [
      "((1, 'w', 'w', '123'), (3, 's', '1', '123'), (4, 'f', '4', '345'))\n"
     ]
    },
    {
     "name": "stdin",
     "output_type": "stream",
     "text": [
      "user: q\n"
     ]
    }
   ],
   "source": [
    "import pymysql as sql\n",
    "from pymysql.cursors import DictCursor\n",
    "\n",
    "while True:\n",
    "    user = input('user:')\n",
    "    if user.upper() == 'Q':\n",
    "        break\n",
    "    password = input('password:')\n",
    "    phone = input('phone:')\n",
    "\n",
    "    conn = sql.connect(host='127.0.0.1', port=3306, user='root', passwd='123', charset='utf8', database='unicom')\n",
    "    cursor = conn.cursor()\n",
    "    cmd = \"insert into admin(username, password, mobile) values(%s,%s,%s);\"\n",
    "    cursor.execute(cmd, [user, password, phone])\n",
    "    conn.commit()\n",
    "    cmd = \"select * from admin;\"\n",
    "    cursor.execute(cmd)\n",
    "    res = cursor.fetchall()\n",
    "    print(res)\n",
    "    \n",
    "    cursor.close()\n",
    "    conn.close()"
   ]
  },
  {
   "cell_type": "code",
   "execution_count": 36,
   "id": "f38e61d0-5018-4a49-b080-e75bc52c3270",
   "metadata": {},
   "outputs": [
    {
     "name": "stdin",
     "output_type": "stream",
     "text": [
      "specify the user that you want to delete: u\n"
     ]
    },
    {
     "name": "stdout",
     "output_type": "stream",
     "text": [
      "((1, 'w', 'w', '123'),)\n"
     ]
    },
    {
     "name": "stdin",
     "output_type": "stream",
     "text": [
      "specify the user that you want to delete: q\n"
     ]
    }
   ],
   "source": [
    "import pymysql as sql\n",
    "from pymysql.cursors import DictCursor\n",
    "\n",
    "while True:\n",
    "    user = input('specify the user that you want to delete:')\n",
    "    if user.upper() == 'Q':\n",
    "        break\n",
    "\n",
    "    conn = sql.connect(host='127.0.0.1', port=3306, user='root', passwd='123', charset='utf8', database='unicom')\n",
    "    cursor = conn.cursor()\n",
    "    cmd = \"delete from admin where username=%s;\"\n",
    "    cursor.execute(cmd, [user,])\n",
    "    conn.commit()\n",
    "    cmd = \"select * from admin;\"\n",
    "    cursor.execute(cmd)\n",
    "    res = cursor.fetchall()\n",
    "    print(res)\n",
    "    \n",
    "    cursor.close()\n",
    "    conn.close()"
   ]
  },
  {
   "cell_type": "code",
   "execution_count": 46,
   "id": "cfb0fa6c-8541-4e16-909b-4b296b89e6ac",
   "metadata": {},
   "outputs": [
    {
     "name": "stdin",
     "output_type": "stream",
     "text": [
      "specify the user for whom you want to change password: w\n",
      "password: 2\n"
     ]
    },
    {
     "name": "stdout",
     "output_type": "stream",
     "text": [
      "((1, 'w', '2', '123'), (3, 's', '1', '123'), (4, 'f', '4', '345'))\n"
     ]
    },
    {
     "name": "stdin",
     "output_type": "stream",
     "text": [
      "specify the user for whom you want to change password: q\n"
     ]
    }
   ],
   "source": [
    "import pymysql as sql\n",
    "# from pymysql.cursors import DictCursor\n",
    "\n",
    "while True:\n",
    "    user = input('specify the user for whom you want to change password:')    \n",
    "    if user.upper() == 'Q':\n",
    "        break\n",
    "        \n",
    "    pwd = input('password:')\n",
    "\n",
    "    conn = sql.connect(host='127.0.0.1', port=3306, user='root', passwd='123', charset='utf8', database='unicom')\n",
    "    cursor = conn.cursor()\n",
    "    cmd = \"update admin set password=%s where username=%s;\"\n",
    "    cursor.execute(cmd, [pwd, user,])\n",
    "    conn.commit()\n",
    "    cmd = \"select * from admin;\"\n",
    "    cursor.execute(cmd)\n",
    "    res = cursor.fetchall()\n",
    "    print(res)\n",
    "    \n",
    "    cursor.close()\n",
    "    conn.close()"
   ]
  },
  {
   "cell_type": "code",
   "execution_count": 47,
   "id": "ef96a539-a5ab-4312-9d30-5af70198cc96",
   "metadata": {},
   "outputs": [
    {
     "name": "stdin",
     "output_type": "stream",
     "text": [
      "specify the user: f\n"
     ]
    },
    {
     "name": "stdout",
     "output_type": "stream",
     "text": [
      "((4, 'f', '4', '345'),)\n"
     ]
    },
    {
     "name": "stdin",
     "output_type": "stream",
     "text": [
      "specify the user: q\n"
     ]
    }
   ],
   "source": [
    "import pymysql as sql\n",
    "# from pymysql.cursors import DictCursor\n",
    "\n",
    "while True:\n",
    "    user = input('specify the user:')    \n",
    "    if user.upper() == 'Q':\n",
    "        break\n",
    "\n",
    "    conn = sql.connect(host='127.0.0.1', port=3306, user='root', passwd='123', charset='utf8', database='unicom')\n",
    "    cursor = conn.cursor()\n",
    "    cmd = \"select * from admin where username=%s;\"\n",
    "    cursor.execute(cmd, [user,])\n",
    "    res = cursor.fetchall()\n",
    "    print(res)\n",
    "    \n",
    "    cursor.close()\n",
    "    conn.close()"
   ]
  },
  {
   "cell_type": "code",
   "execution_count": null,
   "id": "a2216d12-11cc-46af-9ee8-f4646e70f9e4",
   "metadata": {},
   "outputs": [],
   "source": [
    "create table admin(\n",
    "    id int unsigned not null auto_increment primary key,\n",
    "    username varchar(16),\n",
    "    password varchar(16),\n",
    "    mobile char(11)\n",
    ") default charset=utf8;"
   ]
  }
 ],
 "metadata": {
  "kernelspec": {
   "display_name": "Python 3 (ipykernel)",
   "language": "python",
   "name": "python3"
  },
  "language_info": {
   "codemirror_mode": {
    "name": "ipython",
    "version": 3
   },
   "file_extension": ".py",
   "mimetype": "text/x-python",
   "name": "python",
   "nbconvert_exporter": "python",
   "pygments_lexer": "ipython3",
   "version": "3.10.6"
  }
 },
 "nbformat": 4,
 "nbformat_minor": 5
}
