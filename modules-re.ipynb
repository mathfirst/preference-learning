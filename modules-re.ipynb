{
 "cells": [
  {
   "cell_type": "markdown",
   "id": "2da8a128-05c5-4e55-8c83-f66849298717",
   "metadata": {},
   "source": [
    "## Regular Expression Syntax"
   ]
  },
  {
   "cell_type": "markdown",
   "id": "107fdd1d-0e90-4b5d-8809-cce6bc498629",
   "metadata": {},
   "source": [
    "### \\d This includes [0-9], and also many other digit characters. If the ASCII flag is used only [0-9] is matched.\n",
    "If you need to match a phone number, \"\\d{11}\" will help"
   ]
  },
  {
   "cell_type": "code",
   "execution_count": 4,
   "id": "c1b8dcbd-bf4c-4f84-acc1-7a7080c23b18",
   "metadata": {},
   "outputs": [
    {
     "data": {
      "text/plain": [
       "['12345678910', '15136985214']"
      ]
     },
     "execution_count": 4,
     "metadata": {},
     "output_type": "execute_result"
    }
   ],
   "source": [
    "res = re.findall(r\"\\d{11}\", text)\n",
    "res"
   ]
  },
  {
   "cell_type": "markdown",
   "id": "b215969b-58fa-4314-95b0-c9179526a8c7",
   "metadata": {},
   "source": [
    "### `re.match` can be used be validate format"
   ]
  },
  {
   "cell_type": "code",
   "execution_count": 8,
   "id": "50d9366b-e62e-4416-98c6-e3299e08b5b9",
   "metadata": {},
   "outputs": [
    {
     "name": "stdin",
     "output_type": "stream",
     "text": [
      "email:  ...\n"
     ]
    },
    {
     "name": "stdout",
     "output_type": "stream",
     "text": [
      "invalid email\n"
     ]
    }
   ],
   "source": [
    "email = input(\"email: \")\n",
    "is_valid = re.match(r\"^\\w+@\\w+.\\w+$\", email)\n",
    "if is_valid:\n",
    "    print(f\"valid email: {email}\")\n",
    "else:\n",
    "    print(f\"invalid email\")"
   ]
  },
  {
   "cell_type": "markdown",
   "id": "972516da-c6ba-4085-8689-67c574475552",
   "metadata": {},
   "source": [
    "## 1. about characters"
   ]
  },
  {
   "cell_type": "markdown",
   "id": "47793707-a217-48d7-8737-13b8c142a840",
   "metadata": {},
   "source": [
    "### fixed string"
   ]
  },
  {
   "cell_type": "code",
   "execution_count": 9,
   "id": "7c5300bb-7f04-428b-94a0-e26ca5485d37",
   "metadata": {},
   "outputs": [
    {
     "data": {
      "text/plain": [
       "['wupeiqi', 'wupeiqi']"
      ]
     },
     "execution_count": 9,
     "metadata": {},
     "output_type": "execute_result"
    }
   ],
   "source": [
    "text = \"wupeiqi hello world wupeiqi\"\n",
    "res = re.findall(r\"wupeiqi\", text)\n",
    "res"
   ]
  },
  {
   "cell_type": "markdown",
   "id": "83b956c1-5cc9-4d1b-91ac-bd2fdd7101ec",
   "metadata": {},
   "source": [
    "### dynamic string [a-z], [0-9]"
   ]
  },
  {
   "cell_type": "code",
   "execution_count": 11,
   "id": "428d072a-999f-42ff-b463-6fc92fc49756",
   "metadata": {},
   "outputs": [
    {
     "data": {
      "text/plain": [
       "['wupeiqia']"
      ]
     },
     "execution_count": 11,
     "metadata": {},
     "output_type": "execute_result"
    }
   ],
   "source": [
    "text = \"wupeiqia hello world wupeiqib\"\n",
    "res = re.findall(r\"wupeiqi[ai]\", text)  #'wupeiqia', 'wupeiqii'\n",
    "res"
   ]
  },
  {
   "cell_type": "code",
   "execution_count": 12,
   "id": "ba8603bf-2aba-4961-8167-84500cd2b9b9",
   "metadata": {},
   "outputs": [
    {
     "data": {
      "text/plain": [
       "['wupeiqia', 'wupeiqib']"
      ]
     },
     "execution_count": 12,
     "metadata": {},
     "output_type": "execute_result"
    }
   ],
   "source": [
    "res = re.findall(r\"wupeiqi[a-z]\", text)  #'wupeiqia', 'wupeiqib' ... 'wupeiqiz'\n",
    "res"
   ]
  },
  {
   "cell_type": "markdown",
   "id": "1916969f-f58a-4327-9a07-9bd653e335ae",
   "metadata": {},
   "source": [
    "### \\d refers to one digit"
   ]
  },
  {
   "cell_type": "code",
   "execution_count": 14,
   "id": "10428f4c-6b60-4121-83dc-aedad1f5fb7f",
   "metadata": {},
   "outputs": [
    {
     "data": {
      "text/plain": [
       "['1', '2', '3']"
      ]
     },
     "execution_count": 14,
     "metadata": {},
     "output_type": "execute_result"
    }
   ],
   "source": [
    "text = \"hello 123\"\n",
    "res = re.findall(r\"\\d\", text)  #\n",
    "res"
   ]
  },
  {
   "cell_type": "code",
   "execution_count": 15,
   "id": "db054993-b3d1-4cd7-9c59-7a62ddae06d2",
   "metadata": {},
   "outputs": [
    {
     "data": {
      "text/plain": [
       "['12']"
      ]
     },
     "execution_count": 15,
     "metadata": {},
     "output_type": "execute_result"
    }
   ],
   "source": [
    "res = re.findall(r\"\\d\\d\", text)  #\n",
    "res"
   ]
  },
  {
   "cell_type": "code",
   "execution_count": 18,
   "id": "73f6d486-086a-4f44-9efc-fbc75b6dd4f1",
   "metadata": {},
   "outputs": [
    {
     "data": {
      "text/plain": [
       "['12', '34']"
      ]
     },
     "execution_count": 18,
     "metadata": {},
     "output_type": "execute_result"
    }
   ],
   "source": [
    "res = re.findall(r\"\\d\\d\", \"hello 1234\")  #\n",
    "res"
   ]
  },
  {
   "cell_type": "code",
   "execution_count": 17,
   "id": "7cec73be-6a83-49cb-ba56-1f3810f1d4e1",
   "metadata": {},
   "outputs": [
    {
     "data": {
      "text/plain": [
       "['123']"
      ]
     },
     "execution_count": 17,
     "metadata": {},
     "output_type": "execute_result"
    }
   ],
   "source": [
    "res = re.findall(r\"\\d{3}\", text)  #\n",
    "res"
   ]
  },
  {
   "cell_type": "code",
   "execution_count": 20,
   "id": "6e0e2fce-af84-4191-b610-95b684ef7291",
   "metadata": {},
   "outputs": [
    {
     "data": {
      "text/plain": [
       "['123']"
      ]
     },
     "execution_count": 20,
     "metadata": {},
     "output_type": "execute_result"
    }
   ],
   "source": [
    "res = re.findall(r\"\\d{2,}\", text)  #\n",
    "res"
   ]
  },
  {
   "cell_type": "code",
   "execution_count": 24,
   "id": "b5f30cb1-760f-4c22-ab8f-fb9532b7b0eb",
   "metadata": {},
   "outputs": [
    {
     "data": {
      "text/plain": [
       "['t1234', 't576', 't43']"
      ]
     },
     "execution_count": 24,
     "metadata": {},
     "output_type": "execute_result"
    }
   ],
   "source": [
    "res = re.findall(r\"t\\d{2,}\", \"t1234 t576 t43\")  # 2, means no less than 2\n",
    "res"
   ]
  },
  {
   "cell_type": "code",
   "execution_count": 26,
   "id": "a49dfd31-b23c-4f26-9e86-dbca75e22f08",
   "metadata": {},
   "outputs": [
    {
     "data": {
      "text/plain": [
       "['t1234', 't576', 't43']"
      ]
     },
     "execution_count": 26,
     "metadata": {},
     "output_type": "execute_result"
    }
   ],
   "source": [
    "res = re.findall(r\"t\\d{2,4}\", \"t1234564 t576 t43\")  # 2,4 means  2 <= <=4\n",
    "res"
   ]
  },
  {
   "cell_type": "markdown",
   "id": "1874a666-16d5-41dc-8a4c-18bd77d0394d",
   "metadata": {},
   "source": [
    "### match a Chinese mobilephone number precisely"
   ]
  },
  {
   "cell_type": "code",
   "execution_count": 29,
   "id": "818262d2-4d42-4291-badb-542c4270b038",
   "metadata": {},
   "outputs": [
    {
     "data": {
      "text/plain": [
       "['13698745200', '13698745200']"
      ]
     },
     "execution_count": 29,
     "metadata": {},
     "output_type": "execute_result"
    }
   ],
   "source": [
    "res = re.findall(r\"1[358]\\d{9}\", \"1369874520013698745200\")  # 2,4 means  2 <= <=4\n",
    "res"
   ]
  },
  {
   "cell_type": "markdown",
   "id": "9f2f25ee-ec8c-4fa9-b71c-3b39230ea2e1",
   "metadata": {},
   "source": [
    "### ? stands for 0 or 1 character"
   ]
  },
  {
   "cell_type": "code",
   "execution_count": 33,
   "id": "d2ff82df-8deb-4ec5-b3ac-59acd9fdd03e",
   "metadata": {},
   "outputs": [
    {
     "data": {
      "text/plain": [
       "['t', 't1', 't1']"
      ]
     },
     "execution_count": 33,
     "metadata": {},
     "output_type": "execute_result"
    }
   ],
   "source": [
    "res = re.findall(r\"t\\d?\", \"t t1 t12\")\n",
    "res"
   ]
  },
  {
   "cell_type": "markdown",
   "id": "4362d433-b5bf-4837-ac5e-82dff5ceab5c",
   "metadata": {},
   "source": [
    "### + stands for 1 or n characters"
   ]
  },
  {
   "cell_type": "code",
   "execution_count": 34,
   "id": "c65c01f2-53d5-493d-a529-5f6a42f59387",
   "metadata": {},
   "outputs": [
    {
     "data": {
      "text/plain": [
       "['t1', 't12']"
      ]
     },
     "execution_count": 34,
     "metadata": {},
     "output_type": "execute_result"
    }
   ],
   "source": [
    "res = re.findall(r\"t\\d+\", \"t t1 t12\")\n",
    "res"
   ]
  },
  {
   "cell_type": "markdown",
   "id": "1e9cf166-8179-48c7-9dca-24de6c83c867",
   "metadata": {},
   "source": [
    "### * stands for 0 or n characters"
   ]
  },
  {
   "cell_type": "code",
   "execution_count": 35,
   "id": "7a38e8f0-3691-484d-a5b2-cf59a8cb4c15",
   "metadata": {},
   "outputs": [
    {
     "data": {
      "text/plain": [
       "['t', 't1', 't12']"
      ]
     },
     "execution_count": 35,
     "metadata": {},
     "output_type": "execute_result"
    }
   ],
   "source": [
    "res = re.findall(r\"t\\d*\", \"t t1 t12\")\n",
    "res"
   ]
  },
  {
   "cell_type": "markdown",
   "id": "ca292956-1d94-472b-8c25-0484e3dc9f94",
   "metadata": {},
   "source": [
    "### \\w stands for letters, digits, underscore, and Chinese characters, etc, excluding space"
   ]
  },
  {
   "cell_type": "markdown",
   "id": "9ea18ae1-2582-4de1-9bf2-a62bbf659c16",
   "metadata": {},
   "source": [
    "### \\w this includes alphanumeric characters (as defined by str.isalnum()) as well as the underscore (_). If the ASCII flag is used, only [a-zA-Z0-9_] is matched.\n",
    "For example, if you want to match an email address, \\w+@\\w+.\\w+ will help. "
   ]
  },
  {
   "cell_type": "code",
   "execution_count": 48,
   "id": "cef0bc59-dd34-4e55-8407-1933f1ad6526",
   "metadata": {},
   "outputs": [
    {
     "data": {
      "text/plain": [
       "['hello_world_19@greatwall.com', '123_456@math.com']"
      ]
     },
     "execution_count": 48,
     "metadata": {},
     "output_type": "execute_result"
    }
   ],
   "source": [
    "text = \"This message includes two email addresses, hello_world_19@greatwall.com and 123_456@math.com, and two Chinese mobilephone numbers: 12345678910 and 15136985214.\"\n",
    "import re\n",
    "res = re.findall(r\"\\w+@\\w+.\\w+\", text, re.ASCII) # re.ASCII excludes Chinese characters\n",
    "res"
   ]
  },
  {
   "cell_type": "code",
   "execution_count": 36,
   "id": "24f7f487-2434-48c4-b130-b0dd4802b2ff",
   "metadata": {},
   "outputs": [
    {
     "data": {
      "text/plain": [
       "['阿仕顿', '阿s顿']"
      ]
     },
     "execution_count": 36,
     "metadata": {},
     "output_type": "execute_result"
    }
   ],
   "source": [
    "text = \"阿仕顿， 阿s顿\"\n",
    "re.findall(r\"阿\\w顿\", text)"
   ]
  },
  {
   "cell_type": "code",
   "execution_count": 38,
   "id": "aeab8c72-22cd-4d40-90fe-2a75c6446917",
   "metadata": {},
   "outputs": [
    {
     "data": {
      "text/plain": [
       "['阿仕ss顿']"
      ]
     },
     "execution_count": 38,
     "metadata": {},
     "output_type": "execute_result"
    }
   ],
   "source": [
    "text = \"阿仕ss顿， 阿s顿\"\n",
    "re.findall(r\"阿\\w{2,10}顿\", text)"
   ]
  },
  {
   "cell_type": "markdown",
   "id": "c69b0382-a101-4576-996e-249251c1103d",
   "metadata": {},
   "source": [
    "### `.` includes any character, except newline"
   ]
  },
  {
   "cell_type": "code",
   "execution_count": 46,
   "id": "1eb8d8f2-2b1f-4570-89cb-3ea8dd2822d3",
   "metadata": {},
   "outputs": [
    {
     "name": "stdout",
     "output_type": "stream",
     "text": [
      "[]\n"
     ]
    },
    {
     "data": {
      "text/plain": [
       "['阿仕ss 顿', '阿s顿']"
      ]
     },
     "execution_count": 46,
     "metadata": {},
     "output_type": "execute_result"
    }
   ],
   "source": [
    "text = \"阿仕ss 顿， 阿s顿\"\n",
    "print(re.findall(r\"阿\\w{2,10}顿\", text))\n",
    "\n",
    "re.findall(r\"阿.{1,4}顿\", text)"
   ]
  },
  {
   "cell_type": "code",
   "execution_count": 47,
   "id": "562947fd-9f2f-4ecb-b7a6-02406e346645",
   "metadata": {},
   "outputs": [
    {
     "name": "stdout",
     "output_type": "stream",
     "text": [
      "['阿.顿']\n"
     ]
    }
   ],
   "source": [
    "text = \"阿仕ss 顿， 阿.顿\"\n",
    "print(re.findall(r\"阿\\.顿\", text))"
   ]
  },
  {
   "cell_type": "markdown",
   "id": "0121c445-c777-4f21-9682-42105890cfe5",
   "metadata": {},
   "source": [
    "### quantity \n",
    "- `?` 0 or 1\n",
    "- `*` 0 or n\n",
    "- `+` 1 or n\n",
    "- `{n}` n\n",
    "- `{n,m}` n<= <=m\n",
    "- `{n,}` n<=\n",
    "\n",
    "Note that they match in a greedy way. If you do not want them to work in a greedy way, please add `?` right after them."
   ]
  },
  {
   "cell_type": "code",
   "execution_count": 51,
   "id": "ecf6d47b-1e46-4eca-b6eb-7e46f719bbde",
   "metadata": {},
   "outputs": [
    {
     "data": {
      "text/plain": [
       "['roorao']"
      ]
     },
     "execution_count": 51,
     "metadata": {},
     "output_type": "execute_result"
    }
   ],
   "source": [
    "text = \"roorao\"\n",
    "re.findall(r\"r.+o\", text)"
   ]
  },
  {
   "cell_type": "code",
   "execution_count": 52,
   "id": "a02c2722-fb0a-40aa-b925-83b12928a0be",
   "metadata": {},
   "outputs": [
    {
     "data": {
      "text/plain": [
       "['roo', 'rao']"
      ]
     },
     "execution_count": 52,
     "metadata": {},
     "output_type": "execute_result"
    }
   ],
   "source": [
    "text = \"roorao\"\n",
    "re.findall(r\"r.+?o\", text)"
   ]
  },
  {
   "cell_type": "markdown",
   "id": "6fa53565-9b2b-4769-a164-6abe6ef9ad19",
   "metadata": {},
   "source": [
    "## Groups via ()\n",
    "### 1. extract data"
   ]
  },
  {
   "cell_type": "code",
   "execution_count": 54,
   "id": "b7ed26cf-d9c0-4a2e-ac17-9ea6259d6103",
   "metadata": {},
   "outputs": [
    {
     "data": {
      "text/plain": [
       "['165458', '165458']"
      ]
     },
     "execution_count": 54,
     "metadata": {},
     "output_type": "execute_result"
    }
   ],
   "source": [
    "text = \"15332165458 15332165458 \"\n",
    "re.findall(r\"153\\d{2}(\\d{3}\\d{3})\", text)"
   ]
  },
  {
   "cell_type": "code",
   "execution_count": 55,
   "id": "b171d139-7138-4f4d-84de-6723da862ada",
   "metadata": {},
   "outputs": [
    {
     "data": {
      "text/plain": [
       "[('15332165458', '165458'), ('15332165458', '165458')]"
      ]
     },
     "execution_count": 55,
     "metadata": {},
     "output_type": "execute_result"
    }
   ],
   "source": [
    "text = \"15332165458 15332165458 \"\n",
    "re.findall(r\"(153\\d{2}(\\d{3}\\d{3}))\", text)"
   ]
  },
  {
   "cell_type": "code",
   "execution_count": 56,
   "id": "b3fb203a-4938-46e5-9436-98b2d338dd2f",
   "metadata": {},
   "outputs": [
    {
     "data": {
      "text/plain": [
       "['1999']"
      ]
     },
     "execution_count": 56,
     "metadata": {},
     "output_type": "execute_result"
    }
   ],
   "source": [
    "text = \"40000019991231000X\"\n",
    "re.findall(r\"\\d{6}(\\d{4})\\d{7}[\\dX]\", text)"
   ]
  },
  {
   "cell_type": "markdown",
   "id": "a83ed5d0-65f0-4276-b6ad-5272d2873109",
   "metadata": {},
   "source": [
    "### 2. `()` can be used to perform `|` operation"
   ]
  },
  {
   "cell_type": "code",
   "execution_count": 58,
   "id": "c6fc022d-f3b6-464e-a9f8-2456abe456a0",
   "metadata": {},
   "outputs": [
    {
     "data": {
      "text/plain": [
       "['1999', 'abc3']"
      ]
     },
     "execution_count": 58,
     "metadata": {},
     "output_type": "execute_result"
    }
   ],
   "source": [
    "text = \"40000019991231000X, 400000abc31231000X\"\n",
    "re.findall(r\"\\d{6}(\\d{4}|abc\\d)\\d{7}[\\dX]\", text)"
   ]
  },
  {
   "cell_type": "markdown",
   "id": "32df825e-639b-454f-9d21-9b68331b15a8",
   "metadata": {},
   "source": [
    "### `^` Matches the start of the string; `$` Matches the end of the string"
   ]
  },
  {
   "cell_type": "code",
   "execution_count": 60,
   "id": "f0f02266-8cd1-4d54-9ed5-c3798ebd699b",
   "metadata": {},
   "outputs": [
    {
     "name": "stdout",
     "output_type": "stream",
     "text": [
      "['123']\n",
      "[]\n"
     ]
    }
   ],
   "source": [
    "text = \"123\"\n",
    "text1 = \"a123\"\n",
    "print(re.findall(r\"^\\d{3}$\", text))\n",
    "print(re.findall(r\"^\\d{3}$\", text1))"
   ]
  },
  {
   "cell_type": "markdown",
   "id": "86ef746b-b2c8-4f8c-887c-41eaf9b5f834",
   "metadata": {},
   "source": [
    "## `re.match`  matches from the begining and returns the first result"
   ]
  },
  {
   "cell_type": "code",
   "execution_count": 70,
   "id": "43a836bc-2b68-4f74-81bd-6d0749726f76",
   "metadata": {},
   "outputs": [
    {
     "name": "stdout",
     "output_type": "stream",
     "text": [
      "123\n"
     ]
    }
   ],
   "source": [
    "text = \"123\"\n",
    "text1 = \"a123\"\n",
    "text2 = \"123b\"\n",
    "res = re.match(r\"\\d{3}\", text)\n",
    "res1 = re.match(r\"\\d{3}\", text1)\n",
    "res2 = re.match(r\"\\d{3}$\", text2)\n",
    "if res:\n",
    "    print(res.group())\n",
    "if res1:\n",
    "    print(res1.group())\n",
    "if res2:\n",
    "    print(res2.group())"
   ]
  },
  {
   "cell_type": "markdown",
   "id": "661fae17-bf62-4b20-8c1e-2d10d7a28352",
   "metadata": {},
   "source": [
    "## `re.search`  searches in the whole text and returns the first result"
   ]
  },
  {
   "cell_type": "code",
   "execution_count": 73,
   "id": "6767ca09-0d3c-44a9-bec7-802596868b12",
   "metadata": {},
   "outputs": [
    {
     "name": "stdout",
     "output_type": "stream",
     "text": [
      "123 123\n",
      "a123 123\n"
     ]
    }
   ],
   "source": [
    "text = \"123\"\n",
    "text1 = \"a123\"\n",
    "text2 = \"123b\"\n",
    "res = re.search(r\"\\d{3}\", text)\n",
    "res1 = re.search(r\"\\d{3}\", text1)\n",
    "res2 = re.search(r\"\\d{3}$\", text2)\n",
    "if res:\n",
    "    print(f'{text}', res.group())\n",
    "if res1:\n",
    "    print(f'{text1}', res1.group())\n",
    "if res2:\n",
    "    print(f'{text2}', res2.group())"
   ]
  },
  {
   "cell_type": "markdown",
   "id": "deb9fda1-82d2-4ee4-8102-d054252f22fa",
   "metadata": {},
   "source": [
    "## `re.split`  works as `text.split()`"
   ]
  },
  {
   "cell_type": "code",
   "execution_count": 74,
   "id": "ded5d426-7731-493e-882f-542e0c2cbb30",
   "metadata": {},
   "outputs": [
    {
     "name": "stdout",
     "output_type": "stream",
     "text": [
      "['123', ' 345'] ['a123', ' dd', ' aa', 'gg']\n"
     ]
    }
   ],
   "source": [
    "text = \"123, 345\"\n",
    "text1 = \"a123, dd, aa.gg\"\n",
    "\n",
    "res = re.split(r\"[,]\", text)\n",
    "res1 = re.split(r\"[,\\.]\", text1)\n",
    "print(res, res1)"
   ]
  },
  {
   "cell_type": "code",
   "execution_count": 77,
   "id": "ed2fe595-5842-435f-88e3-08e9f378285f",
   "metadata": {},
   "outputs": [
    {
     "data": {
      "text/plain": [
       "28.08288"
      ]
     },
     "execution_count": 77,
     "metadata": {},
     "output_type": "execute_result"
    }
   ],
   "source": [
    "15.68*1.791"
   ]
  },
  {
   "cell_type": "code",
   "execution_count": 78,
   "id": "54e00c16-3967-4df9-9971-56cda038901f",
   "metadata": {},
   "outputs": [
    {
     "data": {
      "text/plain": [
       "7.69888"
      ]
     },
     "execution_count": 78,
     "metadata": {},
     "output_type": "execute_result"
    }
   ],
   "source": [
    "15.68*0.491"
   ]
  },
  {
   "cell_type": "code",
   "execution_count": 85,
   "id": "6b84f7b4-5b4f-4de2-a332-4c9d3e080f3c",
   "metadata": {},
   "outputs": [
    {
     "data": {
      "text/plain": [
       "2.4768"
      ]
     },
     "execution_count": 85,
     "metadata": {},
     "output_type": "execute_result"
    }
   ],
   "source": [
    "7.2*(1-0.6560)"
   ]
  },
  {
   "cell_type": "code",
   "execution_count": 86,
   "id": "71897b8a-9118-4db8-bdad-8c7ad8246fb8",
   "metadata": {},
   "outputs": [
    {
     "data": {
      "text/plain": [
       "2.1384"
      ]
     },
     "execution_count": 86,
     "metadata": {},
     "output_type": "execute_result"
    }
   ],
   "source": [
    "7.2*0.297"
   ]
  },
  {
   "cell_type": "code",
   "execution_count": 8,
   "id": "71ab5a6f-a50a-4f73-ad1d-345f6a08a384",
   "metadata": {},
   "outputs": [
    {
     "data": {
      "text/plain": [
       "['BCE', 'guide']"
      ]
     },
     "execution_count": 8,
     "metadata": {},
     "output_type": "execute_result"
    }
   ],
   "source": [
    "import re\n",
    "pt_dir = '2023-05-25-11-21-57-BCE-guide-10-0.1-0.4-upd-50-200'\n",
    "# re.findall(r\"(CE|CE[-_]BCE|BCE|BCE[-_]BCE|MAE|BCE[-_]guide|MAE[-_]BCE)\", pt_dir)\n",
    "re.findall(r\"(CE|guide|BCE|MAE)\", pt_dir, re.IGNORECASE)"
   ]
  },
  {
   "cell_type": "code",
   "execution_count": 11,
   "id": "77b3fae2-006a-4732-bbed-c6a61a5ba622",
   "metadata": {},
   "outputs": [
    {
     "name": "stdout",
     "output_type": "stream",
     "text": [
      "zzzzzzzzzzzzzzzzz\n",
      "yyyyyyyyyyyyy\n",
      "['zzzzzzzzzzzzzzzzz', 'yyyyyyyyyyyyy']\n"
     ]
    }
   ],
   "source": [
    "file_ls = ['zzzzzzzzzzzzzzzzz', 'yyyyyyyyyyyyy']\n",
    "f_ls = [f for f in file_ls]\n",
    "print(f_ls.pop(0))\n",
    "print(f_ls.pop(0))\n",
    "print(file_ls)"
   ]
  },
  {
   "cell_type": "code",
   "execution_count": null,
   "id": "73f39f49-dbe6-4df6-82c9-76dc71f0d3d3",
   "metadata": {},
   "outputs": [],
   "source": []
  }
 ],
 "metadata": {
  "kernelspec": {
   "display_name": "Python 3 (ipykernel)",
   "language": "python",
   "name": "python3"
  },
  "language_info": {
   "codemirror_mode": {
    "name": "ipython",
    "version": 3
   },
   "file_extension": ".py",
   "mimetype": "text/x-python",
   "name": "python",
   "nbconvert_exporter": "python",
   "pygments_lexer": "ipython3",
   "version": "3.10.6"
  }
 },
 "nbformat": 4,
 "nbformat_minor": 5
}
